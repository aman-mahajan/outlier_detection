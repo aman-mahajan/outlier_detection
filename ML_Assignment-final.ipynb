{
 "cells": [
  {
   "cell_type": "markdown",
   "metadata": {},
   "source": [
    "## Import Dependencies"
   ]
  },
  {
   "cell_type": "code",
   "execution_count": 127,
   "metadata": {
    "collapsed": true
   },
   "outputs": [],
   "source": [
    "from sklearn.datasets import fetch_20newsgroups"
   ]
  },
  {
   "cell_type": "markdown",
   "metadata": {},
   "source": [
    "## Generate Training Data"
   ]
  },
  {
   "cell_type": "code",
   "execution_count": 128,
   "metadata": {
    "collapsed": true
   },
   "outputs": [],
   "source": [
    "categories_train = ['comp.graphics', 'comp.sys.ibm.pc.hardware',\n",
    "              'comp.sys.mac.hardware', 'comp.windows.x']\n",
    "train_data = fetch_20newsgroups(subset='train', categories=categories_train)['data']"
   ]
  },
  {
   "cell_type": "markdown",
   "metadata": {},
   "source": [
    "`train_data` has queries related only to computers. Your task is train a model to reject queries outside this domain. The classifier must output 1 for queries in domain and -1 for queries which are out of domain"
   ]
  },
  {
   "cell_type": "markdown",
   "metadata": {},
   "source": [
    "## Your solution from here. Good Luck !"
   ]
  },
  {
   "cell_type": "code",
   "execution_count": 129,
   "metadata": {},
   "outputs": [
    {
     "data": {
      "text/plain": [
       "2345"
      ]
     },
     "execution_count": 129,
     "metadata": {},
     "output_type": "execute_result"
    }
   ],
   "source": [
    "len(train_data)"
   ]
  },
  {
   "cell_type": "code",
   "execution_count": 130,
   "metadata": {
    "collapsed": true
   },
   "outputs": [],
   "source": [
    "import pickle\n",
    "import random\n",
    "import numpy as np\n",
    "from nltk.corpus import names\n",
    "from nltk.stem import WordNetLemmatizer\n",
    "import re\n",
    "from nltk.tokenize import RegexpTokenizer\n",
    "import nltk\n",
    "from sklearn.feature_extraction.text import TfidfVectorizer\n",
    "from sklearn.ensemble import IsolationForest\n",
    "from sklearn.ensemble import BaggingClassifier\n",
    "from sklearn.decomposition import TruncatedSVD\n",
    "from sklearn.model_selection import train_test_split\n",
    "from sklearn.metrics import accuracy_score,fbeta_score,precision_score,roc_auc_score,recall_score\n",
    "import matplotlib.pyplot as plt\n",
    "%matplotlib inline\n",
    "#pickle.dump(train_data,open('train_data','wb'))"
   ]
  },
  {
   "cell_type": "markdown",
   "metadata": {},
   "source": [
    "Getting data from other categories used as outliers in the training and test data"
   ]
  },
  {
   "cell_type": "code",
   "execution_count": 131,
   "metadata": {
    "collapsed": true
   },
   "outputs": [],
   "source": [
    "others=fetch_20newsgroups(subset='train',categories=['alt.atheism', 'rec.sport.baseball','rec.autos','misc.forsale','sci.med'])['data']\n",
    "#others=random.sample(others,200)\n",
    "#pickle.dump(others,open('outliers','wb'))"
   ]
  },
  {
   "cell_type": "code",
   "execution_count": 133,
   "metadata": {},
   "outputs": [
    {
     "data": {
      "text/plain": [
       "2850"
      ]
     },
     "execution_count": 133,
     "metadata": {},
     "output_type": "execute_result"
    }
   ],
   "source": [
    "len(others)"
   ]
  },
  {
   "cell_type": "markdown",
   "metadata": {},
   "source": [
    "Making a function for cleaning textual data"
   ]
  },
  {
   "cell_type": "code",
   "execution_count": 134,
   "metadata": {
    "collapsed": true
   },
   "outputs": [],
   "source": [
    "def letter_only(string):\n",
    "    return string.isalpha()\n",
    "def clean_data(text):\n",
    "    cleaned=[]\n",
    "    all_names=set(names.words())\n",
    "    lemmatizer=WordNetLemmatizer()\n",
    "    for item in text:\n",
    "        cleaned.append(' '.join([lemmatizer.lemmatize(word.lower()) for word in item.split() if letter_only(word) and word not in all_names]))\n",
    "    return cleaned"
   ]
  },
  {
   "cell_type": "code",
   "execution_count": 135,
   "metadata": {
    "collapsed": true
   },
   "outputs": [],
   "source": [
    "train_cleaned=clean_data(train_data)\n",
    "outliers_cleaned=clean_data(others)"
   ]
  },
  {
   "cell_type": "code",
   "execution_count": 136,
   "metadata": {},
   "outputs": [
    {
     "data": {
      "text/plain": [
       "'lcd overhead projector the university of british columbia na in am looking for one of those color lcd screen you on an overhead projector and control the presentation a you recommend me a particular price are we talking for a good you get an active matrix panel and a bright overhead projector designed to be used with an lcd panel stage must not get too i tried out a proxima ovation unit and liked but i needed a brighter projector used it with a it is also too expensive for what you price of active matrix panel are rumoured to drop substantially sometime this year to do with tarrifs being lifted i in canadian the proxima ovation model ranged in price from about to and a good overhead projector about to for that kind of you can get a brighter image from a three beam but sacrifice oh proper room lighting is extremely especially if you want your audience to have enough light to read handout and not have that light wash out your display at the front of the tricky to get'"
      ]
     },
     "execution_count": 136,
     "metadata": {},
     "output_type": "execute_result"
    }
   ],
   "source": [
    "train_cleaned[200]"
   ]
  },
  {
   "cell_type": "markdown",
   "metadata": {},
   "source": [
    "Making another function for keeping only nouns in the datasets. Reasoning behind this was that information about domain/category is usually in the nouns in a document. (not used because it did not improve accuracy)"
   ]
  },
  {
   "cell_type": "code",
   "execution_count": 137,
   "metadata": {
    "collapsed": true
   },
   "outputs": [],
   "source": [
    "def preprocess(text):\n",
    "    preprocessed=[]\n",
    "    for item in text:\n",
    "        tokenizer = RegexpTokenizer(r'\\w+') \n",
    "        tokenized = tokenizer.tokenize(item)\n",
    "        tagged=nltk.pos_tag(tokenized)\n",
    "        nouns=[]\n",
    "        for tag in tagged:\n",
    "        #words with POS tags beginning with N are nouns\n",
    "            if re.search(r'^N',tag[1]):\n",
    "                nouns.append(tag[0])\n",
    "        preprocessed.append(nouns)\n",
    "    preprocessed=[' '.join(article) for article in preprocessed]\n",
    "    return preprocessed"
   ]
  },
  {
   "cell_type": "code",
   "execution_count": 15,
   "metadata": {
    "collapsed": true
   },
   "outputs": [],
   "source": [
    "#train_pp=preprocess(train_cleaned)\n",
    "#test_pp=preprocess(test_cleaned)\n",
    "#outlier_pp=preprocess(outliers_cleaned)"
   ]
  },
  {
   "cell_type": "markdown",
   "metadata": {},
   "source": [
    "Converting the textual data into tfidf vectors and reducing the dimension"
   ]
  },
  {
   "cell_type": "code",
   "execution_count": 138,
   "metadata": {
    "collapsed": true
   },
   "outputs": [],
   "source": [
    "from sklearn.feature_extraction.text import TfidfVectorizer\n",
    "from sklearn.decomposition import TruncatedSVD\n",
    "vectorizer = TfidfVectorizer(stop_words='english')#,max_features=100)\n",
    "trainv=vectorizer.fit_transform(train_cleaned)\n",
    "svd=TruncatedSVD(n_components=120)\n",
    "svd.fit(trainv)\n",
    "trainv=svd.transform(trainv)\n",
    "outliersv=vectorizer.transform(outliers_cleaned)\n",
    "outliersv=svd.transform(outliersv)"
   ]
  },
  {
   "cell_type": "markdown",
   "metadata": {},
   "source": [
    "For the sake of simplicity, we are considering the following labels in our datasets:\n",
    "1 for outlier,\n",
    "0 for inlier"
   ]
  },
  {
   "cell_type": "code",
   "execution_count": 139,
   "metadata": {
    "collapsed": true
   },
   "outputs": [],
   "source": [
    "y_train=list(np.zeros(len(train_pp)))\n",
    "y_outliers=list(np.ones(len(outlier_pp)))"
   ]
  },
  {
   "cell_type": "markdown",
   "metadata": {},
   "source": [
    "Mixing some outliers into the training data for better classification"
   ]
  },
  {
   "cell_type": "code",
   "execution_count": 140,
   "metadata": {
    "collapsed": true
   },
   "outputs": [],
   "source": [
    "totalx=np.concatenate((trainv,outliersv))\n",
    "totaly=np.concatenate((y_train,y_outliers))\n",
    "train_val_x,test_x,train_val_y,test_y=train_test_split(totalx,totaly,test_size=0.2,random_state=42)\n",
    "train_x,val_x,train_y,val_y=train_test_split(train_val_x,train_val_y,test_size=0.2,random_state=42)"
   ]
  },
  {
   "cell_type": "code",
   "execution_count": 141,
   "metadata": {},
   "outputs": [
    {
     "data": {
      "text/plain": [
       "(3324, 120)"
      ]
     },
     "execution_count": 141,
     "metadata": {},
     "output_type": "execute_result"
    }
   ],
   "source": [
    "train_x.shape"
   ]
  },
  {
   "cell_type": "code",
   "execution_count": 142,
   "metadata": {},
   "outputs": [
    {
     "name": "stdout",
     "output_type": "stream",
     "text": [
      "Train shape:  (3324, 120)\n",
      "Proportion of outliers in training set: 0.55\n",
      "\n",
      "Valid shape:  (832, 120)\n",
      "Proportion of outliers in validation set: 0.56\n",
      "\n",
      "Test shape:,  (1039, 120)\n",
      "Proportion of outliers in test set: 0.54\n",
      "\n"
     ]
    }
   ],
   "source": [
    "print('Train shape: ', train_x.shape)\n",
    "print('Proportion of outliers in training set: %.2f\\n' % np.mean(train_y))\n",
    "print('Valid shape: ', val_x.shape)\n",
    "print('Proportion of outliers in validation set: %.2f\\n' % np.mean(val_y))\n",
    "print('Test shape:, ', test_x.shape)\n",
    "print('Proportion of outliers in test set: %.2f\\n' % np.mean(test_y))"
   ]
  },
  {
   "cell_type": "markdown",
   "metadata": {},
   "source": [
    "Checking out IsolationForest for outlier detection"
   ]
  },
  {
   "cell_type": "code",
   "execution_count": 143,
   "metadata": {},
   "outputs": [
    {
     "data": {
      "text/plain": [
       "IsolationForest(bootstrap=True, contamination=0.1, max_features=1.0,\n",
       "        max_samples='auto', n_estimators=5, n_jobs=-1, random_state=42,\n",
       "        verbose=0)"
      ]
     },
     "execution_count": 143,
     "metadata": {},
     "output_type": "execute_result"
    }
   ],
   "source": [
    "from sklearn.ensemble import IsolationForest\n",
    "model = IsolationForest(random_state=42, n_jobs=-1, bootstrap=True, n_estimators=5)\n",
    "model.fit(train_x,train_y)"
   ]
  },
  {
   "cell_type": "markdown",
   "metadata": {},
   "source": [
    "Checking for the best threshold"
   ]
  },
  {
   "cell_type": "code",
   "execution_count": 144,
   "metadata": {},
   "outputs": [
    {
     "name": "stdout",
     "output_type": "stream",
     "text": [
      "0.715057915058 65\n"
     ]
    }
   ],
   "source": [
    "thresholds = np.linspace(0, .5, 200)\n",
    "y_scores = model.decision_function(val_x)\n",
    "scores = []\n",
    "for threshold in thresholds:\n",
    "    y_hat = (y_scores < threshold).astype(int)\n",
    "    scores.append([recall_score(y_pred=y_hat, y_true=val_y),\n",
    "                 precision_score(y_pred=y_hat, y_true=val_y),\n",
    "                 fbeta_score(y_pred=y_hat, y_true=val_y, beta=1)])\n",
    "\n",
    "scores = np.array(scores)\n",
    "print(scores[:, 2].max(), scores[:, 2].argmax())"
   ]
  },
  {
   "cell_type": "code",
   "execution_count": 145,
   "metadata": {},
   "outputs": [
    {
     "data": {
      "image/png": "[encoded data removed]",
      "text/plain": [
       "<matplotlib.figure.Figure at 0x7f520c1ff518>"
      ]
     },
     "metadata": {},
     "output_type": "display_data"
    }
   ],
   "source": [
    "plt.plot(thresholds, scores[:, 0], label='$Recall$')\n",
    "plt.plot(thresholds, scores[:, 1], label='$Precision$')\n",
    "plt.plot(thresholds, scores[:, 2], label='$F_1$')\n",
    "plt.ylabel('Score')\n",
    "plt.xlabel('Threshold')\n",
    "plt.legend(loc='best')\n",
    "plt.show()"
   ]
  },
  {
   "cell_type": "code",
   "execution_count": 146,
   "metadata": {},
   "outputs": [
    {
     "name": "stdout",
     "output_type": "stream",
     "text": [
      "Final threshold: 0.163317\n",
      "Test Recall Score: 1.000\n",
      "Test Precision Score: 0.539\n",
      "Test F1 Score: 0.700\n"
     ]
    }
   ],
   "source": [
    "final_thresh = thresholds[scores[:, 2].argmax()]\n",
    "y_hat_test = (model.decision_function(test_x) < final_thresh).astype(int)\n",
    "\n",
    "print('Final threshold: %f' % final_thresh)\n",
    "print('Test Recall Score: %.3f' % recall_score(y_pred=y_hat_test, y_true=test_y))\n",
    "print('Test Precision Score: %.3f' % precision_score(y_pred=y_hat_test, y_true=test_y))\n",
    "print('Test F1 Score: %.3f' % fbeta_score(y_pred=y_hat_test, y_true=test_y, beta=1))\n"
   ]
  },
  {
   "cell_type": "markdown",
   "metadata": {},
   "source": [
    "Any of the other outlier detection method like OneClassSVM also gave similar results.\n",
    "\n",
    "So considering it as a classical classification problem.(We have mixed our training data with outliers and also labelled them. So we can now use simple classification models) \n",
    "\n",
    "Trying with a straightforward BaggingClassifier model"
   ]
  },
  {
   "cell_type": "code",
   "execution_count": 153,
   "metadata": {},
   "outputs": [
    {
     "name": "stderr",
     "output_type": "stream",
     "text": [
      "/home/aman/anaconda3/lib/python3.6/site-packages/sklearn/metrics/classification.py:1113: UndefinedMetricWarning: Precision is ill-defined and being set to 0.0 due to no predicted samples.\n",
      "  'precision', 'predicted', average, warn_for)\n",
      "/home/aman/anaconda3/lib/python3.6/site-packages/sklearn/metrics/classification.py:1113: UndefinedMetricWarning: F-score is ill-defined and being set to 0.0 due to no predicted samples.\n",
      "  'precision', 'predicted', average, warn_for)\n"
     ]
    },
    {
     "name": "stdout",
     "output_type": "stream",
     "text": [
      "0.910869565217 110\n"
     ]
    }
   ],
   "source": [
    "model=BaggingClassifier(n_jobs=-1,n_estimators=100)\n",
    "model.fit(train_x,train_y)\n",
    "from sklearn.metrics import accuracy_score,fbeta_score,precision_score,roc_auc_score,recall_score\n",
    "thresholds = np.linspace(0, 1, 200)\n",
    "y_scores = model.predict_proba(val_x)\n",
    "scores = []\n",
    "for threshold in thresholds:\n",
    "    y_hat = (y_scores < threshold).astype(int)[:,0]\n",
    "    scores.append([recall_score(y_pred=y_hat, y_true=val_y.astype(int)),\n",
    "                 precision_score(y_pred=y_hat, y_true=val_y),\n",
    "                 fbeta_score(y_pred=y_hat, y_true=val_y, beta=1)])\n",
    "\n",
    "scores = np.array(scores)\n",
    "print(scores[:, 2].max(), scores[:, 2].argmax())"
   ]
  },
  {
   "cell_type": "code",
   "execution_count": 154,
   "metadata": {},
   "outputs": [
    {
     "data": {
      "image/png": "[encoded data removed]",
      "text/plain": [
       "<matplotlib.figure.Figure at 0x7f5223479d30>"
      ]
     },
     "metadata": {},
     "output_type": "display_data"
    }
   ],
   "source": [
    "plt.plot(thresholds, scores[:, 0], label='$Recall$')\n",
    "plt.plot(thresholds, scores[:, 1], label='$Precision$')\n",
    "plt.plot(thresholds, scores[:, 2], label='$F_1$')\n",
    "plt.ylabel('Score')\n",
    "plt.xlabel('Threshold')\n",
    "plt.legend(loc='best')\n",
    "plt.show()"
   ]
  },
  {
   "cell_type": "code",
   "execution_count": 155,
   "metadata": {},
   "outputs": [
    {
     "name": "stdout",
     "output_type": "stream",
     "text": [
      "Final threshold: 0.552764\n",
      "Test Recall Score: 0.912\n",
      "Test Precision Score: 0.927\n",
      "Test F1 Score: 0.920\n"
     ]
    }
   ],
   "source": [
    "final_thresh = thresholds[scores[:, 2].argmax()]\n",
    "y_hat_test = (model.predict_proba(test_x) < final_thresh).astype(int)[:,0]\n",
    "\n",
    "print('Final threshold: %f' % final_thresh)\n",
    "print('Test Recall Score: %.3f' % recall_score(y_pred=y_hat_test, y_true=test_y))\n",
    "print('Test Precision Score: %.3f' % precision_score(y_pred=y_hat_test, y_true=test_y))\n",
    "print('Test F1 Score: %.3f' % fbeta_score(y_pred=y_hat_test, y_true=test_y, beta=1))\n"
   ]
  },
  {
   "cell_type": "markdown",
   "metadata": {},
   "source": [
    "Giving far better results than the above outlier detection models. So doing a grid search on the parameters of BaggingClassifier"
   ]
  },
  {
   "cell_type": "code",
   "execution_count": 94,
   "metadata": {},
   "outputs": [
    {
     "data": {
      "text/plain": [
       "GridSearchCV(cv=5, error_score='raise',\n",
       "       estimator=BaggingClassifier(base_estimator=None, bootstrap=True,\n",
       "         bootstrap_features=False, max_features=1.0, max_samples=1.0,\n",
       "         n_estimators=10, n_jobs=-1, oob_score=False, random_state=None,\n",
       "         verbose=0, warm_start=False),\n",
       "       fit_params={}, iid=True, n_jobs=1,\n",
       "       param_grid={'n_estimators': [10, 50, 100, 200], 'max_samples': [0.2, 0.5, 0.8, 1], 'max_features': [0.2, 0.5, 0.8, 1]},\n",
       "       pre_dispatch='2*n_jobs', refit=True, return_train_score=True,\n",
       "       scoring=None, verbose=0)"
      ]
     },
     "execution_count": 94,
     "metadata": {},
     "output_type": "execute_result"
    }
   ],
   "source": [
    "param_grid = {'n_estimators' : [10, 50, 100, 200], 'max_samples':[0.2, 0.5, 0.8, 1], 'max_features':[0.2, 0.5, 0.8, 1]}\n",
    "gridsearch = GridSearchCV(BaggingClassifier(n_jobs=-1), param_grid, cv=5)\n",
    "gridsearch.fit(train_val_x,train_val_y)"
   ]
  },
  {
   "cell_type": "code",
   "execution_count": 123,
   "metadata": {},
   "outputs": [
    {
     "data": {
      "text/plain": [
       "{'max_features': 0.2, 'max_samples': 0.5, 'n_estimators': 200}"
      ]
     },
     "execution_count": 123,
     "metadata": {},
     "output_type": "execute_result"
    }
   ],
   "source": [
    "gridsearch.best_params_"
   ]
  },
  {
   "cell_type": "markdown",
   "metadata": {},
   "source": [
    "Best parameters for the BaggingClassifier are {'max_features': 0.2, 'max_samples': 0.5, 'n_estimators': 200}"
   ]
  },
  {
   "cell_type": "code",
   "execution_count": 124,
   "metadata": {},
   "outputs": [
    {
     "data": {
      "text/plain": [
       "0.91867179980750724"
      ]
     },
     "execution_count": 124,
     "metadata": {},
     "output_type": "execute_result"
    }
   ],
   "source": [
    "gridsearch.best_score_"
   ]
  },
  {
   "cell_type": "code",
   "execution_count": null,
   "metadata": {},
   "outputs": [],
   "source": [
    "#model=BaggingClassifier(max_features=0.2,max_samples=0.5,n_estimators=200,n_jobs=-1)\n",
    "#model.fit(train_val_x,train_val_y)"
   ]
  },
  {
   "cell_type": "code",
   "execution_count": 157,
   "metadata": {},
   "outputs": [
    {
     "name": "stderr",
     "output_type": "stream",
     "text": [
      "/home/aman/anaconda3/lib/python3.6/site-packages/sklearn/metrics/classification.py:1113: UndefinedMetricWarning: Precision is ill-defined and being set to 0.0 due to no predicted samples.\n",
      "  'precision', 'predicted', average, warn_for)\n",
      "/home/aman/anaconda3/lib/python3.6/site-packages/sklearn/metrics/classification.py:1113: UndefinedMetricWarning: F-score is ill-defined and being set to 0.0 due to no predicted samples.\n",
      "  'precision', 'predicted', average, warn_for)\n"
     ]
    },
    {
     "name": "stdout",
     "output_type": "stream",
     "text": [
      "0.997840172786 95\n"
     ]
    }
   ],
   "source": [
    "model=gridsearch.best_estimator_\n",
    "thresholds = np.linspace(0, 1, 200)\n",
    "y_scores = model.predict_proba(val_x)\n",
    "scores = []\n",
    "for threshold in thresholds:\n",
    "    y_hat = (y_scores < threshold).astype(int)[:,0]\n",
    "    scores.append([recall_score(y_pred=y_hat, y_true=val_y.astype(int)),\n",
    "                 precision_score(y_pred=y_hat, y_true=val_y),\n",
    "                 fbeta_score(y_pred=y_hat, y_true=val_y, beta=1)])\n",
    "\n",
    "scores = np.array(scores)\n",
    "print(scores[:, 2].max(), scores[:, 2].argmax())"
   ]
  },
  {
   "cell_type": "code",
   "execution_count": 158,
   "metadata": {},
   "outputs": [
    {
     "data": {
      "image/png": "[encoded data removed]",
      "text/plain": [
       "<matplotlib.figure.Figure at 0x7f520c1645c0>"
      ]
     },
     "metadata": {},
     "output_type": "display_data"
    }
   ],
   "source": [
    "plt.plot(thresholds, scores[:, 0], label='$Recall$')\n",
    "plt.plot(thresholds, scores[:, 1], label='$Precision$')\n",
    "plt.plot(thresholds, scores[:, 2], label='$F_1$')\n",
    "plt.ylabel('Score')\n",
    "plt.xlabel('Threshold')\n",
    "plt.legend(loc='best')\n",
    "plt.show()"
   ]
  },
  {
   "cell_type": "code",
   "execution_count": 159,
   "metadata": {},
   "outputs": [
    {
     "name": "stdout",
     "output_type": "stream",
     "text": [
      "Final threshold: 0.477387\n",
      "Test Recall Score: 0.895\n",
      "Test Precision Score: 0.956\n",
      "Test F1 Score: 0.924\n"
     ]
    }
   ],
   "source": [
    "final_thresh = thresholds[scores[:, 2].argmax()]\n",
    "y_hat_test = (model.predict_proba(test_x) < final_thresh).astype(int)[:,0]\n",
    "\n",
    "print('Final threshold: %f' % final_thresh)\n",
    "print('Test Recall Score: %.3f' % recall_score(y_pred=y_hat_test, y_true=test_y))\n",
    "print('Test Precision Score: %.3f' % precision_score(y_pred=y_hat_test, y_true=test_y))\n",
    "print('Test F1 Score: %.3f' % fbeta_score(y_pred=y_hat_test, y_true=test_y, beta=1))\n"
   ]
  },
  {
   "cell_type": "markdown",
   "metadata": {},
   "source": [
    "Testing the model on new test containing only outliers. (data created from other categories) "
   ]
  },
  {
   "cell_type": "code",
   "execution_count": 165,
   "metadata": {},
   "outputs": [],
   "source": [
    "new_test=fetch_20newsgroups(subset='train',categories=['rec.sport.hockey','sci.electronics','sci.space'])['data']\n",
    "new_test_cleaned = clean_data(new_test)\n",
    "new_testv=vectorizer.transform(new_test_cleaned)\n",
    "new_testv=svd.transform(new_testv)\n",
    "y_new_test=list(np.ones(len(new_test_cleaned)))"
   ]
  },
  {
   "cell_type": "code",
   "execution_count": 166,
   "metadata": {},
   "outputs": [
    {
     "data": {
      "text/plain": [
       "(1784, 120)"
      ]
     },
     "execution_count": 166,
     "metadata": {},
     "output_type": "execute_result"
    }
   ],
   "source": [
    "new_testv.shape"
   ]
  },
  {
   "cell_type": "code",
   "execution_count": 167,
   "metadata": {},
   "outputs": [
    {
     "data": {
      "text/plain": [
       "0.87331838565022424"
      ]
     },
     "execution_count": 167,
     "metadata": {},
     "output_type": "execute_result"
    }
   ],
   "source": [
    "y_hat_new_test=(model.predict_proba(new_testv) < final_thresh).astype(int)[:,0]\n",
    "accuracy_score(y_pred=y_hat_new_test,y_true=y_new_test)"
   ]
  },
  {
   "cell_type": "markdown",
   "metadata": {},
   "source": [
    "Testing the model on another data containing text only from the computer domain. (data created from 'comp.os.ms-windows.misc' category in newsgroup data)"
   ]
  },
  {
   "cell_type": "code",
   "execution_count": 164,
   "metadata": {},
   "outputs": [
    {
     "data": {
      "text/plain": [
       "0.82910321489001693"
      ]
     },
     "execution_count": 164,
     "metadata": {},
     "output_type": "execute_result"
    }
   ],
   "source": [
    "new_test2=fetch_20newsgroups(subset='train',categories=['comp.os.ms-windows.misc'])['data']\n",
    "new_test2_cleaned = clean_data(new_test2)\n",
    "new_test2v=vectorizer.transform(new_test2_cleaned)\n",
    "new_test2v=svd.transform(new_test2v)\n",
    "y_new_test2=list(np.zeros(len(new_test2_cleaned)))\n",
    "y_hat_new_test2=(model.predict_proba(new_test2v) < final_thresh).astype(int)[:,0]\n",
    "accuracy_score(y_pred=y_hat_new_test2,y_true=y_new_test2)"
   ]
  },
  {
   "cell_type": "markdown",
   "metadata": {},
   "source": [
    "Good enough for now. Other classification models can also be considered. Boosting, SVM, NaiveBayesClassifier etc."
   ]
  },
  {
   "cell_type": "markdown",
   "metadata": {},
   "source": [
    "The following function converts the labels in the desired format: -1 for outlier , 1 for inlier"
   ]
  },
  {
   "cell_type": "code",
   "execution_count": 172,
   "metadata": {},
   "outputs": [],
   "source": [
    "def map_output(predicted):\n",
    "    output=[-1 if x==1 else 1 for x in predicted]\n",
    "    return output"
   ]
  },
  {
   "cell_type": "markdown",
   "metadata": {},
   "source": [
    "So this is our final model as a function."
   ]
  },
  {
   "cell_type": "code",
   "execution_count": 185,
   "metadata": {
    "collapsed": true
   },
   "outputs": [],
   "source": [
    "def predict_outlier(data,model,threshold):\n",
    "    data_list=[]\n",
    "    data_list.append(data)\n",
    "    data_cleaned=clean_data(data_list)\n",
    "    data_vect=vectorizer.transform(data_cleaned)\n",
    "    data_vect=svd.transform(data_vect)\n",
    "    predicted_labels=(model.predict_proba(data_vect)<threshold).astype(int)[:,0]\n",
    "    predicted_labels=map_output(predicted_labels)\n",
    "    return predicted_labels[0]"
   ]
  },
  {
   "cell_type": "markdown",
   "metadata": {},
   "source": [
    "An example use of the function"
   ]
  },
  {
   "cell_type": "code",
   "execution_count": 190,
   "metadata": {},
   "outputs": [
    {
     "name": "stdout",
     "output_type": "stream",
     "text": [
      "input: My name is aman mahajan.\n",
      "output:-1\n",
      "\n",
      "input:  I love machine learning and data science. But I need a better laptop.\n",
      "output:1\n",
      "\n",
      "input:  Artificial intelligence is the future.\n",
      "output:-1\n",
      "\n",
      "input: Today India lost a test cricket match against south africa. India also lost the 3 match series 2-0 with one match still left to be played.\n",
      "output:-1\n",
      "\n"
     ]
    }
   ],
   "source": [
    "data=['My name is aman mahajan.',\n",
    "      ' I love machine learning and data science. But I need a better laptop.',\n",
    "      ' Artificial intelligence is the future.',\n",
    "      'Today India lost a test cricket match against south africa. India also lost the 3 match series 2-0 with one match still left to be played.']\n",
    "for document in data:\n",
    "    print(\"input: {}\\noutput:{}\\n\".format(document,predict_outlier(document,model,final_thresh)))"
   ]
  },
  {
   "cell_type": "code",
   "execution_count": null,
   "metadata": {
    "collapsed": true
   },
   "outputs": [],
   "source": []
  }
 ],
 "metadata": {
  "kernelspec": {
   "display_name": "Python 3",
   "language": "python",
   "name": "python3"
  },
  "language_info": {
   "codemirror_mode": {
    "name": "ipython",
    "version": 3
   },
   "file_extension": ".py",
   "mimetype": "text/x-python",
   "name": "python",
   "nbconvert_exporter": "python",
   "pygments_lexer": "ipython3",
   "version": "3.6.3"
  }
 },
 "nbformat": 4,
 "nbformat_minor": 2
}
