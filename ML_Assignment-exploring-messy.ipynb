{
 "cells": [
  {
   "cell_type": "markdown",
   "metadata": {},
   "source": [
    "## Import Dependencies"
   ]
  },
  {
   "cell_type": "code",
   "execution_count": 1,
   "metadata": {
    "collapsed": true
   },
   "outputs": [],
   "source": [
    "from sklearn.datasets import fetch_20newsgroups"
   ]
  },
  {
   "cell_type": "markdown",
   "metadata": {},
   "source": [
    "## Generate Training Data"
   ]
  },
  {
   "cell_type": "code",
   "execution_count": 2,
   "metadata": {
    "collapsed": true
   },
   "outputs": [],
   "source": [
    "categories_train = ['comp.graphics', 'comp.sys.ibm.pc.hardware',\n",
    "              'comp.sys.mac.hardware', 'comp.windows.x']\n",
    "train_data = fetch_20newsgroups(subset='train', categories=categories_train)['data']"
   ]
  },
  {
   "cell_type": "markdown",
   "metadata": {},
   "source": [
    "`train_data` has queries related only to computers. Your task is train a model to reject queries outside this domain. The classifier must output 1 for queries in domain and -1 for queries which are out of domain"
   ]
  },
  {
   "cell_type": "markdown",
   "metadata": {},
   "source": [
    "## Your solution from here. Good Luck !"
   ]
  },
  {
   "cell_type": "code",
   "execution_count": 3,
   "metadata": {},
   "outputs": [
    {
     "data": {
      "text/plain": [
       "2345"
      ]
     },
     "execution_count": 3,
     "metadata": {},
     "output_type": "execute_result"
    }
   ],
   "source": [
    "len(train_data)"
   ]
  },
  {
   "cell_type": "code",
   "execution_count": 80,
   "metadata": {},
   "outputs": [],
   "source": [
    "import pickle\n",
    "import random\n",
    "from sklearn.metrics import fbeta_score, precision_score, recall_score, confusion_matrix\n",
    "import matplotlib.pyplot as plt\n",
    "%matplotlib inline\n",
    "#pickle.dump(train_data,open('train_data','wb'))"
   ]
  },
  {
   "cell_type": "code",
   "execution_count": 256,
   "metadata": {},
   "outputs": [],
   "source": [
    "other=fetch_20newsgroups(subset='train',categories=['alt.atheism', 'rec.sport.baseball','rec.autos','misc.forsale','sci.med'])['data']\n",
    "others=random.sample(other,200)\n",
    "#pickle.dump(others,open('outliers','wb'))"
   ]
  },
  {
   "cell_type": "code",
   "execution_count": 141,
   "metadata": {
    "collapsed": true
   },
   "outputs": [],
   "source": [
    "test=fetch_20newsgroups(subset='train',categories=['comp.os.ms-windows.misc'])['data']\n",
    "#pickle.dump(test,open('test','wb'))"
   ]
  },
  {
   "cell_type": "code",
   "execution_count": 257,
   "metadata": {},
   "outputs": [
    {
     "data": {
      "text/plain": [
       "200"
      ]
     },
     "execution_count": 257,
     "metadata": {},
     "output_type": "execute_result"
    }
   ],
   "source": [
    "len(others)"
   ]
  },
  {
   "cell_type": "code",
   "execution_count": 14,
   "metadata": {
    "collapsed": true
   },
   "outputs": [],
   "source": [
    "import numpy as np"
   ]
  },
  {
   "cell_type": "code",
   "execution_count": 8,
   "metadata": {
    "collapsed": true
   },
   "outputs": [],
   "source": [
    "from nltk.corpus import names\n",
    "from nltk.stem import WordNetLemmatizer"
   ]
  },
  {
   "cell_type": "code",
   "execution_count": 9,
   "metadata": {
    "collapsed": true
   },
   "outputs": [],
   "source": [
    "def letter_only(string):\n",
    "    return string.isalpha()\n",
    "def clean_data(text):\n",
    "    cleaned=[]\n",
    "    all_names=set(names.words())\n",
    "    lemmatizer=WordNetLemmatizer()\n",
    "    for item in text:\n",
    "        cleaned.append(' '.join([lemmatizer.lemmatize(word.lower()) for word in item.split() if letter_only(word) and word not in all_names]))\n",
    "    return cleaned"
   ]
  },
  {
   "cell_type": "code",
   "execution_count": 207,
   "metadata": {
    "collapsed": true
   },
   "outputs": [],
   "source": [
    "train_cleaned=clean_data(train_data)\n",
    "test_cleaned=clean_data(test)\n",
    "outliers_cleaned=clean_data(others)"
   ]
  },
  {
   "cell_type": "code",
   "execution_count": 11,
   "metadata": {
    "collapsed": true
   },
   "outputs": [],
   "source": [
    "import re\n",
    "from nltk.tokenize import RegexpTokenizer\n",
    "import nltk"
   ]
  },
  {
   "cell_type": "code",
   "execution_count": 12,
   "metadata": {
    "collapsed": true
   },
   "outputs": [],
   "source": [
    "def preprocess(text):\n",
    "    preprocessed=[]\n",
    "    for item in text:\n",
    "        tokenizer = RegexpTokenizer(r'\\w+') \n",
    "        tokenized = tokenizer.tokenize(item)\n",
    "        tagged=nltk.pos_tag(tokenized)\n",
    "        nouns=[]\n",
    "        for tag in tagged:\n",
    "        #words with POS tags beginning with N are nouns\n",
    "            if re.search(r'^N',tag[1]):\n",
    "                nouns.append(tag[0])\n",
    "        preprocessed.append(nouns)\n",
    "    preprocessed=[' '.join(article) for article in preprocessed]\n",
    "    return preprocessed"
   ]
  },
  {
   "cell_type": "code",
   "execution_count": 208,
   "metadata": {
    "collapsed": true
   },
   "outputs": [],
   "source": [
    "train_pp=preprocess(train_cleaned)\n",
    "test_pp=preprocess(test_cleaned)\n",
    "outlier_pp=preprocess(outliers_cleaned)"
   ]
  },
  {
   "cell_type": "code",
   "execution_count": null,
   "metadata": {},
   "outputs": [],
   "source": [
    "train_pp[0]"
   ]
  },
  {
   "cell_type": "code",
   "execution_count": null,
   "metadata": {},
   "outputs": [],
   "source": [
    "len(train_cleaned)"
   ]
  },
  {
   "cell_type": "code",
   "execution_count": null,
   "metadata": {},
   "outputs": [],
   "source": [
    "train_cleaned[0]"
   ]
  },
  {
   "cell_type": "code",
   "execution_count": null,
   "metadata": {},
   "outputs": [],
   "source": [
    "train_data[0]"
   ]
  },
  {
   "cell_type": "code",
   "execution_count": 209,
   "metadata": {},
   "outputs": [],
   "source": [
    "from sklearn.feature_extraction.text import TfidfVectorizer\n",
    "from sklearn.decomposition import TruncatedSVD\n",
    "vectorizer = TfidfVectorizer(stop_words='english')#,max_features=100)\n",
    "trainv=vectorizer.fit_transform(train_pp)\n",
    "svd=TruncatedSVD(n_components=120)\n",
    "svd.fit(trainv)\n",
    "trainv=svd.transform(trainv)\n",
    "outliersv=vectorizer.transform(outlier_pp)\n",
    "outliersv=svd.transform(outliersv)\n",
    "testv=vectorizer.transform(test_pp)\n",
    "testv=svd.transform(testv)"
   ]
  },
  {
   "cell_type": "code",
   "execution_count": 210,
   "metadata": {
    "collapsed": true
   },
   "outputs": [],
   "source": [
    "y_train=list(np.zeros(len(train_pp)))\n",
    "y_test=list(np.zeros(len(test_pp)))\n",
    "y_outliers=list(np.ones(len(outlier_pp)))"
   ]
  },
  {
   "cell_type": "code",
   "execution_count": 211,
   "metadata": {
    "collapsed": true
   },
   "outputs": [],
   "source": [
    "from sklearn.model_selection import train_test_split\n",
    "trainx, normal_testx, trainy, normal_testy = train_test_split(trainv, y_train, test_size=.2, random_state=42)\n",
    "normal_valx, normal_testx, normal_valy, normal_testy = train_test_split(normal_testx, normal_testy, test_size=.5, random_state=42)\n",
    "abnormal_valx, abnormal_testx, abnormal_valy, abnormal_testy = train_test_split(outliersv, y_outliers, test_size=.5, random_state=42)"
   ]
  },
  {
   "cell_type": "code",
   "execution_count": 212,
   "metadata": {},
   "outputs": [
    {
     "data": {
      "text/plain": [
       "(334, 120)"
      ]
     },
     "execution_count": 212,
     "metadata": {},
     "output_type": "execute_result"
    }
   ],
   "source": [
    "#np.concatenate([normal_valx.todense(),abnormal_valx.todense()]).shape\n",
    "np.concatenate([normal_valx,abnormal_valx]).shape"
   ]
  },
  {
   "cell_type": "code",
   "execution_count": 66,
   "metadata": {},
   "outputs": [
    {
     "data": {
      "text/plain": [
       "matrix([[ 0.        ,  0.        ,  0.        , ...,  0.        ,\n",
       "          0.        ,  0.        ],\n",
       "        [ 0.        ,  0.        ,  0.        , ...,  0.        ,\n",
       "          0.        ,  0.        ],\n",
       "        [ 0.        ,  0.        ,  0.        , ...,  0.        ,\n",
       "          0.        ,  0.        ],\n",
       "        ..., \n",
       "        [ 0.42495086,  0.        ,  0.        , ...,  0.        ,\n",
       "          0.        ,  0.36025579],\n",
       "        [ 0.        ,  0.        ,  0.        , ...,  0.        ,\n",
       "          0.        ,  0.        ],\n",
       "        [ 0.        ,  0.39562324,  0.        , ...,  0.        ,\n",
       "          0.        ,  0.        ]])"
      ]
     },
     "execution_count": 66,
     "metadata": {},
     "output_type": "execute_result"
    }
   ],
   "source": []
  },
  {
   "cell_type": "code",
   "execution_count": 213,
   "metadata": {},
   "outputs": [],
   "source": [
    "#val_x=np.concatenate((normal_valx.todense(),abnormal_valx.todense()),axis=0)\n",
    "val_x=np.concatenate((normal_valx,abnormal_valx),axis=0)\n",
    "val_y=np.concatenate((normal_valy,abnormal_valy),axis=0)\n",
    "test_x=np.concatenate((normal_testx,abnormal_testx),axis=0)\n",
    "#test_x=np.concatenate((normal_testx.todense(),abnormal_testx.todense()),axis=0)\n",
    "test_y=np.concatenate((normal_testy,abnormal_testy),axis=0)"
   ]
  },
  {
   "cell_type": "code",
   "execution_count": 214,
   "metadata": {},
   "outputs": [
    {
     "data": {
      "text/plain": [
       "(1876, 120)"
      ]
     },
     "execution_count": 214,
     "metadata": {},
     "output_type": "execute_result"
    }
   ],
   "source": [
    "trainx.shape"
   ]
  },
  {
   "cell_type": "code",
   "execution_count": 215,
   "metadata": {},
   "outputs": [
    {
     "name": "stdout",
     "output_type": "stream",
     "text": [
      "Train shape:  (1876, 120)\n",
      "Proportion of anomaly in training set: 0.00\n",
      "\n",
      "Valid shape:  (334, 120)\n",
      "Proportion of anomaly in validation set: 0.30\n",
      "\n",
      "Test shape:,  (335, 120)\n",
      "Proportion of anomaly in test set: 0.30\n",
      "\n"
     ]
    }
   ],
   "source": [
    "print('Train shape: ', trainx.shape)\n",
    "print('Proportion of anomaly in training set: %.2f\\n' % np.mean(trainy))\n",
    "print('Valid shape: ', val_x.shape)\n",
    "print('Proportion of anomaly in validation set: %.2f\\n' % np.mean(val_y))\n",
    "print('Test shape:, ', test_x.shape)\n",
    "print('Proportion of anomaly in test set: %.2f\\n' % np.mean(test_y))"
   ]
  },
  {
   "cell_type": "code",
   "execution_count": 216,
   "metadata": {},
   "outputs": [
    {
     "data": {
      "text/plain": [
       "(2345, 120)"
      ]
     },
     "execution_count": 216,
     "metadata": {},
     "output_type": "execute_result"
    }
   ],
   "source": [
    "trainv.shape"
   ]
  },
  {
   "cell_type": "code",
   "execution_count": 217,
   "metadata": {},
   "outputs": [
    {
     "data": {
      "text/plain": [
       "GaussianMixture(covariance_type='full', init_params='kmeans', max_iter=100,\n",
       "        means_init=None, n_components=3, n_init=4, precisions_init=None,\n",
       "        random_state=42, reg_covar=1e-06, tol=0.001, verbose=0,\n",
       "        verbose_interval=10, warm_start=False, weights_init=None)"
      ]
     },
     "execution_count": 217,
     "metadata": {},
     "output_type": "execute_result"
    }
   ],
   "source": [
    "from sklearn.mixture import GaussianMixture\n",
    "\n",
    "gmm = GaussianMixture(n_components=3, n_init=4, random_state=42)\n",
    "#gmm.fit(trainx.todense())\n",
    "gmm.fit(trainx)\n"
   ]
  },
  {
   "cell_type": "code",
   "execution_count": 218,
   "metadata": {},
   "outputs": [
    {
     "name": "stderr",
     "output_type": "stream",
     "text": [
      "/home/aman/anaconda3/lib/python3.6/site-packages/sklearn/metrics/classification.py:1113: UndefinedMetricWarning: Precision is ill-defined and being set to 0.0 due to no predicted samples.\n",
      "  'precision', 'predicted', average, warn_for)\n",
      "/home/aman/anaconda3/lib/python3.6/site-packages/sklearn/metrics/classification.py:1113: UndefinedMetricWarning: F-score is ill-defined and being set to 0.0 due to no predicted samples.\n",
      "  'precision', 'predicted', average, warn_for)\n"
     ]
    },
    {
     "name": "stdout",
     "output_type": "stream",
     "text": [
      "0.460829493088 77\n"
     ]
    }
   ],
   "source": [
    "tresholds = np.linspace(-100, 400, 100)\n",
    "y_scores = gmm.score_samples(val_x)\n",
    "scores = []\n",
    "for treshold in tresholds:\n",
    "    y_hat = (y_scores < treshold).astype(int)\n",
    "    scores.append([recall_score(y_pred=y_hat, y_true=val_y),\n",
    "                 precision_score(y_pred=y_hat, y_true=val_y),\n",
    "                 fbeta_score(y_pred=y_hat, y_true=val_y, beta=1)])\n",
    "\n",
    "scores = np.array(scores)\n",
    "print(scores[:, 2].max(), scores[:, 2].argmax())"
   ]
  },
  {
   "cell_type": "code",
   "execution_count": 219,
   "metadata": {},
   "outputs": [
    {
     "data": {
      "image/png": "[encoded data removed]",
      "text/plain": [
       "<matplotlib.figure.Figure at 0x7f0522ee5518>"
      ]
     },
     "metadata": {},
     "output_type": "display_data"
    }
   ],
   "source": [
    "plt.plot(tresholds, scores[:, 0], label='$Recall$')\n",
    "plt.plot(tresholds, scores[:, 1], label='$Precision$')\n",
    "plt.plot(tresholds, scores[:, 2], label='$F_2$')\n",
    "plt.ylabel('Score')\n",
    "plt.xlabel('Threshold')\n",
    "plt.legend(loc='best')\n",
    "plt.show()"
   ]
  },
  {
   "cell_type": "code",
   "execution_count": 255,
   "metadata": {},
   "outputs": [
    {
     "name": "stdout",
     "output_type": "stream",
     "text": [
      "Final threshold: 288.888889\n",
      "Test Recall Score: 0.010\n",
      "Test Precision Score: 0.333\n",
      "Test F2 Score: 0.019\n"
     ]
    }
   ],
   "source": [
    "final_tresh = tresholds[scores[:, 2].argmax()]\n",
    "y_hat_test = (gmm.score_samples(test_x) < final_tresh).astype(int)\n",
    "\n",
    "print('Final threshold: %f' % final_tresh)\n",
    "print('Test Recall Score: %.3f' % recall_score(y_pred=y_hat_test, y_true=test_y))\n",
    "print('Test Precision Score: %.3f' % precision_score(y_pred=y_hat_test, y_true=test_y))\n",
    "print('Test F2 Score: %.3f' % fbeta_score(y_pred=y_hat_test, y_true=test_y, beta=1))\n",
    "\n",
    "#cnf_matrix = confusion_matrix(test_y, y_hat_test)\n",
    "#plot_confusion_matrix(cnf_matrix, classes=['Normal','Anormal'], title='Confusion matrix')"
   ]
  },
  {
   "cell_type": "code",
   "execution_count": 240,
   "metadata": {},
   "outputs": [
    {
     "data": {
      "text/plain": [
       "-93.586328743946282"
      ]
     },
     "execution_count": 240,
     "metadata": {},
     "output_type": "execute_result"
    }
   ],
   "source": [
    "(gmm.score_samples(test_x).max()<).astype(int)"
   ]
  },
  {
   "cell_type": "code",
   "execution_count": 157,
   "metadata": {},
   "outputs": [
    {
     "data": {
      "text/plain": [
       "IsolationForest(bootstrap=True, contamination=0.1, max_features=1.0,\n",
       "        max_samples=1172, n_estimators=10, n_jobs=-1, random_state=42,\n",
       "        verbose=0)"
      ]
     },
     "execution_count": 157,
     "metadata": {},
     "output_type": "execute_result"
    }
   ],
   "source": [
    "from sklearn.ensemble import IsolationForest\n",
    "model = IsolationForest(random_state=42, n_jobs=-1, max_samples=trainx.todense().shape[0], bootstrap=True, n_estimators=10)\n",
    "model.fit(trainx.todense())\n",
    "#print(model.decision_function(valid[valid['Class'] == 0].drop('Class', axis=1).values).mean())\n",
    "#print(model.decision_function(valid[valid['Class'] == 1].drop('Class', axis=1).values).mean())"
   ]
  },
  {
   "cell_type": "code",
   "execution_count": 158,
   "metadata": {},
   "outputs": [
    {
     "name": "stderr",
     "output_type": "stream",
     "text": [
      "/home/aman/anaconda3/lib/python3.6/site-packages/sklearn/metrics/classification.py:1113: UndefinedMetricWarning: Precision is ill-defined and being set to 0.0 due to no predicted samples.\n",
      "  'precision', 'predicted', average, warn_for)\n",
      "/home/aman/anaconda3/lib/python3.6/site-packages/sklearn/metrics/classification.py:1113: UndefinedMetricWarning: F-score is ill-defined and being set to 0.0 due to no predicted samples.\n",
      "  'precision', 'predicted', average, warn_for)\n"
     ]
    },
    {
     "name": "stdout",
     "output_type": "stream",
     "text": [
      "0.68082788671 78\n"
     ]
    }
   ],
   "source": [
    "tresholds = np.linspace(0, .5, 200)\n",
    "y_scores = model.decision_function(val_x)\n",
    "scores = []\n",
    "for treshold in tresholds:\n",
    "    y_hat = (y_scores < treshold).astype(int)\n",
    "    scores.append([recall_score(y_pred=y_hat, y_true=val_y),\n",
    "                 precision_score(y_pred=y_hat, y_true=val_y),\n",
    "                 fbeta_score(y_pred=y_hat, y_true=val_y, beta=2)])\n",
    "\n",
    "scores = np.array(scores)\n",
    "print(scores[:, 2].max(), scores[:, 2].argmax())"
   ]
  },
  {
   "cell_type": "code",
   "execution_count": 159,
   "metadata": {},
   "outputs": [
    {
     "data": {
      "image/png": "[encoded data removed]",
      "text/plain": [
       "<matplotlib.figure.Figure at 0x7f051c059278>"
      ]
     },
     "metadata": {},
     "output_type": "display_data"
    }
   ],
   "source": [
    "plt.plot(tresholds, scores[:, 0], label='$Recall$')\n",
    "plt.plot(tresholds, scores[:, 1], label='$Precision$')\n",
    "plt.plot(tresholds, scores[:, 2], label='$F_2$')\n",
    "plt.ylabel('Score')\n",
    "plt.xlabel('Threshold')\n",
    "plt.legend(loc='best')\n",
    "plt.show()"
   ]
  },
  {
   "cell_type": "code",
   "execution_count": 160,
   "metadata": {},
   "outputs": [
    {
     "name": "stdout",
     "output_type": "stream",
     "text": [
      "Final threshold: 0.195980\n",
      "Test Recall Score: 1.000\n",
      "Test Precision Score: 0.299\n",
      "Test F2 Score: 0.680\n"
     ]
    }
   ],
   "source": [
    "final_tresh = tresholds[scores[:, 2].argmax()]\n",
    "y_hat_test = (model.decision_function(test_x) < final_tresh).astype(int)\n",
    "\n",
    "print('Final threshold: %f' % final_tresh)\n",
    "print('Test Recall Score: %.3f' % recall_score(y_pred=y_hat_test, y_true=test_y))\n",
    "print('Test Precision Score: %.3f' % precision_score(y_pred=y_hat_test, y_true=test_y))\n",
    "print('Test F2 Score: %.3f' % fbeta_score(y_pred=y_hat_test, y_true=test_y, beta=2))\n"
   ]
  },
  {
   "cell_type": "code",
   "execution_count": null,
   "metadata": {
    "collapsed": true
   },
   "outputs": [],
   "source": [
    "outliersv=vectorizer.transform(preprocess(outliers_cleaned))\n",
    "#outliersv=svd.transform(outliersv)\n",
    "testv=vectorizer.transform(preprocess(test_cleaned))\n",
    "#testv=svd.transform(testv)"
   ]
  },
  {
   "cell_type": "code",
   "execution_count": null,
   "metadata": {
    "collapsed": true
   },
   "outputs": [],
   "source": [
    "from sklearn import svm\n",
    "clf = svm.OneClassSVM(nu=0.17, kernel=\"rbf\", gamma=1.2)\n",
    "clf.fit(trainv)\n",
    "y_pred_train = clf.predict(trainv)\n",
    "y_pred_test = clf.predict(testv)\n",
    "y_pred_outliers = clf.predict(outliersv)\n",
    "n_error_train = y_pred_train[y_pred_train == -1].size\n",
    "n_error_test = y_pred_test[y_pred_test == -1].size\n",
    "n_error_outliers = y_pred_outliers[y_pred_outliers == 1].size"
   ]
  },
  {
   "cell_type": "code",
   "execution_count": null,
   "metadata": {},
   "outputs": [],
   "source": [
    "print(\"train {}/{}={}\".format(n_error_train,len(train_data),n_error_train/len(train_data)))\n",
    "\n",
    "print(\"test {}/{}={}\".format(n_error_test,len(test),n_error_test/len(test)))\n",
    "\n",
    "print(\"outliers {}/{}={}\".format(n_error_outliers,len(others),n_error_outliers/len(others)))"
   ]
  },
  {
   "cell_type": "code",
   "execution_count": null,
   "metadata": {},
   "outputs": [],
   "source": [
    "from sklearn.ensemble import IsolationForest\n",
    "clf = IsolationForest(max_samples=100)\n",
    "clf.fit(trainv)\n",
    "y_pred_train = clf.predict(trainv)\n",
    "y_pred_test = clf.predict(testv)\n",
    "y_pred_outliers = clf.predict(outliersv)\n",
    "n_error_train = y_pred_train[y_pred_train == -1].size\n",
    "n_error_test = y_pred_test[y_pred_test == -1].size\n",
    "n_error_outliers = y_pred_outliers[y_pred_outliers == 1].size\n",
    "print(\"train {}/{}={}\".format(n_error_train,len(train_data),n_error_train/len(train_data)))\n",
    "\n",
    "print(\"test {}/{}={}\".format(n_error_test,len(test),n_error_test/len(test)))\n",
    "\n",
    "print(\"outliers {}/{}={}\".format(n_error_outliers,len(others),n_error_outliers/len(others)))"
   ]
  },
  {
   "cell_type": "code",
   "execution_count": null,
   "metadata": {},
   "outputs": [],
   "source": [
    "others[10]"
   ]
  },
  {
   "cell_type": "code",
   "execution_count": null,
   "metadata": {},
   "outputs": [],
   "source": [
    "from sklearn.covariance import EllipticEnvelope\n",
    "clf = EllipticEnvelope()\n",
    "clf.fit(trainv)\n",
    "y_pred_train = clf.predict(trainv)\n",
    "y_pred_test = clf.predict(testv)\n",
    "y_pred_outliers = clf.predict(outliersv)\n",
    "n_error_train = y_pred_train[y_pred_train == -1].size\n",
    "n_error_test = y_pred_test[y_pred_test == -1].size\n",
    "n_error_outliers = y_pred_outliers[y_pred_outliers == 1].size\n",
    "print(\"train {}/{}={}\".format(n_error_train,len(train_data),n_error_train/len(train_data)))\n",
    "\n",
    "print(\"test {}/{}={}\".format(n_error_test,len(test),n_error_test/len(test)))\n",
    "\n",
    "print(\"outliers {}/{}={}\".format(n_error_outliers,len(others),n_error_outliers/len(others)))"
   ]
  },
  {
   "cell_type": "code",
   "execution_count": null,
   "metadata": {},
   "outputs": [],
   "source": [
    "from sklearn.n_neighbors import LocalOutlierFactor\n",
    "clf = LocalOutlierFactor(n_neighbors=20)\n",
    "y_pred_train = clf.fit(trainv)\n",
    "y_pred_test = clf.predict(testv)\n",
    "y_pred_outliers = clf.predict(outliersv)\n",
    "n_error_train = y_pred_train[y_pred_train == -1].size\n",
    "n_error_test = y_pred_test[y_pred_test == -1].size\n",
    "n_error_outliers = y_pred_outliers[y_pred_outliers == 1].size\n",
    "print(\"train {}/{}={}\".format(n_error_train,len(train_data),n_error_train/len(train_data)))\n",
    "\n",
    "print(\"test {}/{}={}\".format(n_error_test,len(test),n_error_test/len(test)))\n",
    "\n",
    "print(\"outliers {}/{}={}\".format(n_error_outliers,len(others),n_error_outliers/len(others)))\n"
   ]
  },
  {
   "cell_type": "code",
   "execution_count": null,
   "metadata": {
    "collapsed": true
   },
   "outputs": [],
   "source": []
  },
  {
   "cell_type": "code",
   "execution_count": null,
   "metadata": {},
   "outputs": [],
   "source": []
  },
  {
   "cell_type": "code",
   "execution_count": null,
   "metadata": {
    "collapsed": true
   },
   "outputs": [],
   "source": []
  }
 ],
 "metadata": {
  "kernelspec": {
   "display_name": "Python 3",
   "language": "python",
   "name": "python3"
  },
  "language_info": {
   "codemirror_mode": {
    "name": "ipython",
    "version": 3
   },
   "file_extension": ".py",
   "mimetype": "text/x-python",
   "name": "python",
   "nbconvert_exporter": "python",
   "pygments_lexer": "ipython3",
   "version": "3.6.3"
  }
 },
 "nbformat": 4,
 "nbformat_minor": 2
}
